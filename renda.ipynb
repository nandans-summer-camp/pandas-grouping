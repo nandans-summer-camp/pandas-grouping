{
 "cells": [
  {
   "cell_type": "markdown",
   "metadata": {
    "collapsed": false
   },
   "source": [
    "# Tax Revenues (Income!) in Barcelona\n",
    "\n",
    "Open Data Barcelona provides lots of fun data about our city.\n",
    "\n",
    "You can access it here: https://opendata-ajuntament.barcelona.cat\n",
    "\n",
    "We will be examining average tax returns per neighborhood (\"barri\") in the years 2016 and 2015. Tax revenues are, naturally, a proxy for income, so we're really looking at home (taxable) income varies across the city.\n",
    "\n",
    "The columns are in Catalan, so here's a quick explanation in English: \n",
    "\n",
    "Any = Year\n",
    "Codi_Districte = District Code\n",
    "Nom_Districte = District Name\n",
    "Codi_Barri = Neighborhood Code\n",
    "Nom_Barri = Neighborhood Name\n",
    "Seccio_Censal = Cenus Tract Number\n",
    "Import_Euros = Tax Revenue (average over all individuals in the census tract)"
   ]
  },
  {
   "cell_type": "code",
   "execution_count": null,
   "metadata": {
    "collapsed": false
   },
   "outputs": [],
   "source": [
    "# Let's begin by reading the file \"2016_renda.csv\"\n",
    "# into a DataFrame:\n",
    "\n"
   ]
  },
  {
   "cell_type": "code",
   "execution_count": null,
   "metadata": {
    "collapsed": false
   },
   "outputs": [],
   "source": [
    "#\n",
    "# 1)\n",
    "# Get the (5) barris with the highest average tax revenues\n",
    "# (i.e. average over the census tracts in each barri)\n",
    "\n"
   ]
  },
  {
   "cell_type": "code",
   "execution_count": null,
   "metadata": {
    "collapsed": false
   },
   "outputs": [],
   "source": [
    "#\n",
    "# 2)\n",
    "# Get the difference in mean revenue between the \n",
    "# poorest census tract and the richest, within \n",
    "# each district.\n",
    "#\n",
    "# You should return a DataFrame with 2 columns:\n",
    "# The district name and the difference in reveneue.\n",
    "\n"
   ]
  },
  {
   "cell_type": "code",
   "execution_count": null,
   "metadata": {
    "collapsed": false
   },
   "outputs": [],
   "source": [
    "#\n",
    "# 3)\n",
    "# Get the \"income gap\", the difference in mean \n",
    "# revenue between the poorest census tract and \n",
    "# the richest, within each barri.\n",
    "#\n",
    "# You should return a DataFrame with 2 columns:\n",
    "# The barri name and the income gap\n",
    "# \n",
    "# NOTE: Can you reuse some code (a function?)\n",
    "# from above?\n",
    "\n"
   ]
  },
  {
   "cell_type": "code",
   "execution_count": null,
   "metadata": {
    "collapsed": false
   },
   "outputs": [],
   "source": [
    "#\n",
    "# 4)\n",
    "# Each barri has a different number of census tracts.\n",
    "# Create a DataFrame with the number of census tracts\n",
    "# in each Barri, sorted from least to most.\n",
    "\n"
   ]
  },
  {
   "cell_type": "code",
   "execution_count": null,
   "metadata": {
    "collapsed": false
   },
   "outputs": [],
   "source": [
    "#\n",
    "# 5)\n",
    "# Different barris have different sizes. We will assume\n",
    "# that the number of census tracts is a good proxy for\n",
    "# physical size.\n",
    "#\n",
    "# Of course, if we just look at the income gap the larger barris\n",
    "# will usually seem more \"heterogeneous\", seem to have a\n",
    "# larger gap. But is his just because they have more tracts? \n",
    "#\n",
    "# Let's try and \"control\" for the size of the barri (naively)\n",
    "# by dividing the \"income gap\" by the number of census tracts\n",
    "# in the Barri.\n",
    "#\n",
    "# You should create a DataFrame with the following columns: \n",
    "# 1. barri name\n",
    "# 2. income gap\n",
    "# 3. number of census tracts\n",
    "# 4. (income gap) / (number of census tracts)\n",
    "#\n",
    "# It should be sorted by: (income gap) / (number of census tracts)\n",
    "# Remove any observations for which the income gap is 0\n",
    "\n"
   ]
  },
  {
   "cell_type": "code",
   "execution_count": null,
   "metadata": {
    "collapsed": false
   },
   "outputs": [],
   "source": [
    "# Open Data Barcelona provides the tax data for years\n",
    "# 2015 and 2016 in different csv's. Read in the tax data\n",
    "# for year 2015 so we can see how incomes have changed\n",
    "# between the years. \n",
    "\n",
    "#\n",
    "# 6)\n",
    "# Get the growth of the mean tax reveneue per census\n",
    "# tract. Create a DataFrame that has the district, barri,\n",
    "# and census tract as well as the difference in revenue\n",
    "# between the years for each tract.\n",
    "#\n",
    "# Sort by the difference per tract.\n",
    "\n"
   ]
  },
  {
   "cell_type": "code",
   "execution_count": null,
   "metadata": {
    "collapsed": false
   },
   "outputs": [],
   "source": [
    "#\n",
    "# 7)\n",
    "# Get the mean growth per barri. \n",
    "# Sort by mean growth.\n",
    "\n"
   ]
  }
 ],
 "metadata": {
  "kernelspec": {
   "argv": [
    "python",
    "-m",
    "ipykernel_launcher",
    "-f",
    "{connection_file}"
   ],
   "display_name": "Python 3",
   "env": null,
   "interrupt_mode": "signal",
   "language": "python",
   "metadata": null,
   "name": "python3"
  },
  "name": "renda.ipynb"
 },
 "nbformat": 4,
 "nbformat_minor": 4
}
