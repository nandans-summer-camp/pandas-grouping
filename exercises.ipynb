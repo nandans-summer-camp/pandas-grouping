{
 "cells": [
  {
   "cell_type": "markdown",
   "metadata": {
    "collapsed": false
   },
   "source": [
    "# Tax Revenues (Income!) in Barcelona\n",
    "\n",
    "Open Data Barcelona provides lots of fun data about our city.\n",
    "\n",
    "You can access it here: https://opendata-ajuntament.barcelona.cat\n",
    "\n",
    "We will be examining average tax returns per neighborhood (\"barri\") in the years 2016 and 2015. Tax revenues are, naturally, a proxy for income, so we're really looking at home (taxable) income varies across the city.\n",
    "\n",
    "The columns are in Catalan, so here's a quick explanation in English: \n",
    "\n",
    "Any = Year\n",
    "Codi_Districte = District Code\n",
    "Nom_Districte = District Name\n",
    "Codi_Barri = Neighborhood Code\n",
    "Nom_Barri = Neighborhood Name\n",
    "Seccio_Censal = Cenus Tract Number\n",
    "Import_Euros = Tax Revenue (average over all individuals in the census tract)"
   ]
  },
  {
   "cell_type": "code",
   "execution_count": null,
   "metadata": {
    "collapsed": false
   },
   "outputs": [],
   "source": [
    "# Let's begin by reading the file \"2016_renda.csv\"\n",
    "# into a DataFrame:\n"
   ]
  },
  {
   "cell_type": "code",
   "execution_count": null,
   "metadata": {
    "collapsed": false
   },
   "outputs": [],
   "source": [
    "#\n",
    "# 1)\n",
    "# Get the (5) barris with the highest average tax revenues\n",
    "# (i.e. average over the census tracts in each barri)\n"
   ]
  },
  {
   "cell_type": "code",
   "execution_count": null,
   "metadata": {
    "collapsed": false
   },
   "outputs": [],
   "source": [
    "#\n",
    "# 2)\n",
    "# Get the difference in mean revenue between the \n",
    "# poorest census tract and the richest, within \n",
    "# each district.\n",
    "#\n",
    "# You should return a DataFrame with 2 columns:\n",
    "# The district name and the difference in reveneue.\n"
   ]
  },
  {
   "cell_type": "markdown",
   "metadata": {
    "collapsed": false
   },
   "source": [
    "## Planning Your Attack\n",
    "\n",
    "One pattern to make your code more legible, and to make it easier to break down big problems, is to ensure that your code can be read on two levels: one \"declarative\" level, where someone can read (or write) *what* will happen and another \"imperative level\", where someone can read (or write!) *how* the thing is happening.\n",
    "\n",
    "Data preparation often involves a \"pipeline\", a uni-directional flow of transformations where the data is moved, one step at a time, towards the final format.\n",
    "\n",
    "It's important, when you try to create a pipline, which can be a big problem, to make a plan.\n",
    "\n",
    "One way to make a plan is to start from the final goal, and ask write out the following statement: \n",
    "\n",
    "1. \"If I had ________ (INPUT), then it would be easy to make [FINAL GOAL], I would just need to ________ (step).\"\n",
    "\n",
    "Where you should think of INPUT as \"data ______ in data structure ______\".\n",
    "\n",
    "That will be the final step of your pipeline. Now repeat the statement, with the FINAL GOAL being replaced with the INPUT of the previous step: \n",
    "\n",
    "2. \"If I had ________ (INPUT), then it would be easy to make [PREVIOUS INPUT], I would just need to ________ (step).\"\n",
    "\n",
    "Let's see an example of this method of planning by working out an exercise:"
   ]
  },
  {
   "cell_type": "code",
   "execution_count": null,
   "metadata": {
    "collapsed": false
   },
   "outputs": [],
   "source": [
    "#\n",
    "# Your goal will be the following: \n",
    "#\n",
    "# We want to understand the income variation \n",
    "# (or \"spatial inequality\") within each \"barri\".\n",
    "# However, each barri is a different size.\n",
    "# Larger barris will naturally have a greater\n",
    "# variation, even if there isn't great variation\n",
    "# between one block and the next, which is what\n",
    "# we want to understand with spatial inequality.\n",
    "# To deal with this, we will apply a naive solution\n",
    "# of simply using the number of census tracts as\n",
    "# a proxy for \"physical size\" of the barri. We \n",
    "# will then divide the income gap (difference between\n",
    "# lowest and highest income tract) within each barri\n",
    "# by the number of tracts as a way to \"control for size\".\n",
    "# This will be our measure of \"spatial inequality\".\n",
    "#\n",
    "# Your job is to return a dataframe sorted by \n",
    "# spatial inequality, with any barri with one\n",
    "# tract (0 inequality) removed.\n",
    "#\n",
    "#\n",
    "# We will try to lay out a plan to solve the problem\n",
    "# at hand with the process we just went over:\n",
    "\n",
    "# 1. If I had a <<an extra column on the dataframe of \n",
    "#    the income gap divided by the number of tracts>>\n",
    "#    then it would be easy to <<get the barris with \n",
    "#    highest and lowest normalized income gap>>, I \n",
    "#    would just need to <<sort the dataframe by that\n",
    "#    column>>>.\n",
    "#\n",
    "# 2. If I had << A. a column for the income gap and \n",
    "#    B. a column for the number of tracts in a barri>>\n",
    "#    then it would be easy to make << an extra column on the\n",
    "#    dataframe of the income gap divided by the number of tracts>>\n",
    "#    I would just need to <<divide one column by the other>>. \n",
    "#\n",
    "#3b. If I had <<the raw data>>, then it would be easy to make\n",
    "#    <<a column with the number of tracts>>, I would just need\n",
    "#    to <<count the number of tracts per barri>>.\n",
    "#\n",
    "#3a. If I had <<the raw data>>, then it would be easy to make\n",
    "#    <<a column with the income gap>>, I would just need to\n",
    "#    <<calculate the income difference between tracts in each \n",
    "#    barri>>. \n",
    "#\n",
    "# Now we can use this outline to write a declarative pipeline\n",
    "# function (in the opposite order of the steps we wrote): \n",
    "\n",
    "def spatial_inequality_in_barcelona(df):\n",
    "    df = add_income_diff_for_barris(df)\n",
    "    df = add_num_tracts_per_barri(df)\n",
    "    df = add_inequality(df)\n",
    "    return inequality_by_barri(df)\n",
    "\n",
    "# In the next exercises, you will write each of those functions,\n",
    "# and in the end, use this function to compare barris based on\n",
    "# their spatial inequality."
   ]
  },
  {
   "cell_type": "code",
   "execution_count": null,
   "metadata": {
    "collapsed": false
   },
   "outputs": [],
   "source": [
    "#\n",
    "# 3)\n",
    "# Write the function: \"add_income_diff_for_barris\"\n",
    "#\n",
    "# HINT: Make sure the returned dataframe is the\n",
    "# same size as the original!\n",
    "#\n"
   ]
  },
  {
   "cell_type": "code",
   "execution_count": null,
   "metadata": {
    "collapsed": false
   },
   "outputs": [],
   "source": [
    "#\n",
    "# 4)\n",
    "# Create the function: \"add_num_tracts_per_barri\"\n"
   ]
  },
  {
   "cell_type": "code",
   "execution_count": null,
   "metadata": {
    "collapsed": false
   },
   "outputs": [],
   "source": [
    "#\n",
    "# 5)\n",
    "# Create the function: \"add_inequality\"\n"
   ]
  },
  {
   "cell_type": "code",
   "execution_count": null,
   "metadata": {
    "collapsed": false
   },
   "outputs": [],
   "source": [
    "#\n",
    "# 6)\n",
    "# Add the function \"inequality_by_barri\"\n",
    "# \n",
    "# Note that this function should probably \n",
    "# make sure that the dataframe has the\n",
    "# same number of rows as number of barris\n",
    "# (i.e. one barri per row).\n",
    "#\n",
    "# Also note that some barris have an inequality\n",
    "# of 0, let's go ahead and remove them!\n"
   ]
  },
  {
   "cell_type": "code",
   "execution_count": null,
   "metadata": {
    "collapsed": false
   },
   "outputs": [],
   "source": [
    "# \n",
    "# 7) \n",
    "# Try out the function we wrote out in the planning\n",
    "# phase, spatial_inequality_in_barcelona,\n",
    "# does it work when given the raw data?\n",
    "# \n",
    "# Now let's go ahead and \"refactor\"\n",
    "# \"Refactoring\" means rewriting the code without\n",
    "# changing the functionality. What we wrote works,\n",
    "# and is great and legible. \n",
    "# \n",
    "# But maybe breaking it down into so many separate \n",
    "# steps, while didactic, could be considered overkill\n",
    "# and maybe isn't the most efficient. You probably\n",
    "# grouped by \"Nom_Barri\" at least 3 separate times!\n",
    "#\n",
    "# Try to rewrite the function spatial_inequality_in_barcelona\n",
    "# to be more efficient (to only groupby Nom_Barri once!)\n",
    "# and a bit shorter.\n"
   ]
  },
  {
   "cell_type": "code",
   "execution_count": null,
   "metadata": {
    "collapsed": false
   },
   "outputs": [],
   "source": [
    "# Open Data Barcelona provides the tax data for years\n",
    "# 2015 and 2016 in different csv's. Read in the tax data\n",
    "# for year 2015 so we can see how incomes have changed\n",
    "# between the years. \n",
    "\n",
    "#\n",
    "# 8)\n",
    "# Get the growth of the mean tax reveneue per census\n",
    "# tract. Create a DataFrame that has the district, barri,\n",
    "# and census tract as well as the difference in revenue\n",
    "# between the years for each tract.\n",
    "#\n",
    "# Sort by the difference per tract.\n"
   ]
  },
  {
   "cell_type": "code",
   "execution_count": null,
   "metadata": {
    "collapsed": false
   },
   "outputs": [],
   "source": [
    "#\n",
    "# 9)\n",
    "# Get the mean growth per barri. \n",
    "# Sort by mean growth.\n"
   ]
  }
 ],
 "metadata": {
  "kernelspec": {
   "argv": [
    "python",
    "-m",
    "ipykernel_launcher",
    "-f",
    "{connection_file}"
   ],
   "display_name": "Python 3",
   "env": null,
   "interrupt_mode": "signal",
   "language": "python",
   "metadata": null,
   "name": "python3"
  },
  "name": "exercises.ipynb"
 },
 "nbformat": 4,
 "nbformat_minor": 4
}
